{
 "cells": [
  {
   "cell_type": "markdown",
   "metadata": {},
   "source": [
    "### Initial Setup\n",
    "Firstly, we will import the lsmgridtrack core module and create a tracker object with default options."
   ]
  },
  {
   "cell_type": "code",
   "execution_count": 1,
   "metadata": {},
   "outputs": [],
   "source": [
    "import lsmgridtrack as lsm\n",
    "\n",
    "t = lsm.tracker()"
   ]
  },
  {
   "cell_type": "markdown",
   "metadata": {},
   "source": [
    "Since we didn't provide an options or config keyword argument this tracker object has the default options. We can view these."
   ]
  },
  {
   "cell_type": "code",
   "execution_count": 2,
   "metadata": {},
   "outputs": [
    {
     "name": "stdout",
     "output_type": "stream",
     "text": [
      "{'Image': {'spacing': [1.0, 1.0, 1.0], 'resampling': [1.0, 1.0, 1.0]}, 'Grid': {'origin': False, 'spacing': False, 'size': False, 'crop': False}, 'Registration': {'method': 'BFGS', 'iterations': 100, 'sampling_fraction': 0.05, 'sampling_strategy': 'RANDOM', 'usemask': False, 'landmarks': False, 'shrink_levels': [1], 'sigma_levels': [0.0]}}\n"
     ]
    }
   ],
   "source": [
    "print(t.options)"
   ]
  },
  {
   "cell_type": "markdown",
   "metadata": {},
   "source": [
    "These are a custom class built on the normal Python dictionary, but with immutable keys. If we try to introduce a new key, an error will be raised. This will help prevent spelling typos from causing runtime bugs."
   ]
  },
  {
   "cell_type": "code",
   "execution_count": 3,
   "metadata": {},
   "outputs": [
    {
     "ename": "KeyError",
     "evalue": "'foo is not an acceptable key.'",
     "output_type": "error",
     "traceback": [
      "\u001b[0;31m---------------------------------------------------------------------------\u001b[0m",
      "\u001b[0;31mKeyError\u001b[0m                                  Traceback (most recent call last)",
      "\u001b[0;32m<ipython-input-3-a002a83e06f0>\u001b[0m in \u001b[0;36m<module>\u001b[0;34m()\u001b[0m\n\u001b[0;32m----> 1\u001b[0;31m \u001b[0mt\u001b[0m\u001b[0;34m.\u001b[0m\u001b[0moptions\u001b[0m\u001b[0;34m[\u001b[0m\u001b[0;34m'foo'\u001b[0m\u001b[0;34m]\u001b[0m \u001b[0;34m=\u001b[0m \u001b[0;32mTrue\u001b[0m\u001b[0;34m\u001b[0m\u001b[0m\n\u001b[0m",
      "\u001b[0;32m~/anaconda3/envs/testlsm/lib/python3.6/site-packages/lsmgridtrack/tracker.py\u001b[0m in \u001b[0;36m__setitem__\u001b[0;34m(self, k, v)\u001b[0m\n\u001b[1;32m     27\u001b[0m     \u001b[0;32mdef\u001b[0m \u001b[0m__setitem__\u001b[0m\u001b[0;34m(\u001b[0m\u001b[0mself\u001b[0m\u001b[0;34m,\u001b[0m \u001b[0mk\u001b[0m\u001b[0;34m,\u001b[0m \u001b[0mv\u001b[0m\u001b[0;34m)\u001b[0m\u001b[0;34m:\u001b[0m\u001b[0;34m\u001b[0m\u001b[0m\n\u001b[1;32m     28\u001b[0m         \u001b[0;32mif\u001b[0m \u001b[0mk\u001b[0m \u001b[0;32mnot\u001b[0m \u001b[0;32min\u001b[0m \u001b[0mself\u001b[0m\u001b[0;34m.\u001b[0m\u001b[0m__data\u001b[0m\u001b[0;34m:\u001b[0m\u001b[0;34m\u001b[0m\u001b[0m\n\u001b[0;32m---> 29\u001b[0;31m             \u001b[0;32mraise\u001b[0m \u001b[0mKeyError\u001b[0m\u001b[0;34m(\u001b[0m\u001b[0;34m\"{:s} is not an acceptable key.\"\u001b[0m\u001b[0;34m.\u001b[0m\u001b[0mformat\u001b[0m\u001b[0;34m(\u001b[0m\u001b[0mk\u001b[0m\u001b[0;34m)\u001b[0m\u001b[0;34m)\u001b[0m\u001b[0;34m\u001b[0m\u001b[0m\n\u001b[0m\u001b[1;32m     30\u001b[0m \u001b[0;34m\u001b[0m\u001b[0m\n\u001b[1;32m     31\u001b[0m         \u001b[0mself\u001b[0m\u001b[0;34m.\u001b[0m\u001b[0m__data\u001b[0m\u001b[0;34m[\u001b[0m\u001b[0mk\u001b[0m\u001b[0;34m]\u001b[0m \u001b[0;34m=\u001b[0m \u001b[0mv\u001b[0m\u001b[0;34m\u001b[0m\u001b[0m\n",
      "\u001b[0;31mKeyError\u001b[0m: 'foo is not an acceptable key.'"
     ]
    }
   ],
   "source": [
    "t.options['foo'] = True"
   ]
  },
  {
   "cell_type": "markdown",
   "metadata": {},
   "source": [
    "### Indicate paths to image files\n",
    "We didn't provide a reference or deformed image to register. Let's do that now with the two images included in the test module."
   ]
  },
  {
   "cell_type": "code",
   "execution_count": 4,
   "metadata": {},
   "outputs": [
    {
     "name": "stdout",
     "output_type": "stream",
     "text": [
      "['reference - 1 layer', '10 percent strain - 1 layer', 'reference - 2 layers', '10 percent strain - 2 layers']\n"
     ]
    }
   ],
   "source": [
    "from lsmgridtrack.test import data\n",
    "\n",
    "# Names of available images\n",
    "print(data.get_image_names())\n"
   ]
  },
  {
   "cell_type": "code",
   "execution_count": 5,
   "metadata": {},
   "outputs": [],
   "source": [
    "# path to reference image\n",
    "reference = data.get_image('reference - 2 layers')\n",
    "\n",
    "# path to deformed image\n",
    "deformed = data.get_image('10 percent strain - 2 layers')\n",
    "\n",
    "# assign these image paths to tracker object\n",
    "t.reference_path = reference\n",
    "t.deformed_path = deformed\n"
   ]
  },
  {
   "cell_type": "markdown",
   "metadata": {},
   "source": [
    "Now, we have images to analyze, but the default options are not correct for these. Let's modify these directly."
   ]
  },
  {
   "cell_type": "code",
   "execution_count": 6,
   "metadata": {},
   "outputs": [
    {
     "name": "stdout",
     "output_type": "stream",
     "text": [
      "{'Image': {'spacing': [0.5, 0.5, 1.0], 'resampling': [1.0, 1.0, 1.0]}, 'Grid': {'origin': [69, 72, 5], 'spacing': [20, 20, 10], 'size': [20, 20, 3], 'crop': False}, 'Registration': {'method': 'BFGS', 'iterations': 100, 'sampling_fraction': 0.05, 'sampling_strategy': 'RANDOM', 'usemask': False, 'landmarks': False, 'shrink_levels': [1], 'sigma_levels': [0.0]}}\n"
     ]
    }
   ],
   "source": [
    "# Change the image spacing\n",
    "t.options['Image']['spacing'] = [0.5, 0.5, 1.0]\n",
    "# Change the grid origin, spacing, and size\n",
    "t.options['Grid']['origin'] = [69, 72, 5]\n",
    "t.options['Grid']['spacing'] = [20, 20, 10]\n",
    "t.options['Grid']['size'] = [20, 20, 3]\n",
    "\n",
    "# Set the registration method to BFGS\n",
    "t.options['Registration']['method'] = 'BFGS'\n",
    "\n",
    "\n",
    "#See the options are now changed\n",
    "print(t.options)"
   ]
  },
  {
   "cell_type": "markdown",
   "metadata": {},
   "source": [
    "### Running the registration and analysis\n",
    "Now, let's perform the registration and post-processing."
   ]
  },
  {
   "cell_type": "code",
   "execution_count": 7,
   "metadata": {},
   "outputs": [
    {
     "name": "stdout",
     "output_type": "stream",
     "text": [
      "... Starting Deformable Registration\n",
      "... ... Finding optimal BSpline transform\n",
      "... ... Elapsed Iterations: 0\n",
      "... ... Current Metric Value: -4.49300E-02\n",
      "... ... Elapsed Iterations: 0\n",
      "... ... Current Metric Value: -5.40839E-02\n",
      "... ... Elapsed Iterations: 0\n",
      "... ... Current Metric Value: -7.82703E-02\n",
      "... ... Elapsed Iterations: 0\n",
      "... ... Current Metric Value: -7.82703E-02\n",
      "... ... Elapsed Iterations: 1\n",
      "... ... Current Metric Value: -5.33780E-02\n",
      "... ... Elapsed Iterations: 1\n",
      "... ... Current Metric Value: -7.28831E-03\n",
      "... ... Elapsed Iterations: 1\n",
      "... ... Current Metric Value: -8.40190E-02\n",
      "... ... Elapsed Iterations: 1\n",
      "... ... Current Metric Value: -8.40190E-02\n",
      "... ... Elapsed Iterations: 2\n",
      "... ... Current Metric Value: -8.56601E-02\n",
      "... ... Elapsed Iterations: 2\n",
      "... ... Current Metric Value: -8.56601E-02\n",
      "... ... Elapsed Iterations: 3\n",
      "... ... Current Metric Value: -8.78699E-02\n",
      "... ... Elapsed Iterations: 3\n",
      "... ... Current Metric Value: -8.78699E-02\n",
      "... ... Elapsed Iterations: 4\n",
      "... ... Current Metric Value: -1.21636E-01\n",
      "... ... Elapsed Iterations: 4\n",
      "... ... Current Metric Value: -1.21636E-01\n",
      "... ... Elapsed Iterations: 5\n",
      "... ... Current Metric Value: -1.13094E-01\n",
      "... ... Elapsed Iterations: 5\n",
      "... ... Current Metric Value: -1.73892E-01\n",
      "... ... Elapsed Iterations: 5\n",
      "... ... Current Metric Value: -1.73892E-01\n",
      "... ... Elapsed Iterations: 6\n",
      "... ... Current Metric Value: -2.13524E-01\n",
      "... ... Elapsed Iterations: 6\n",
      "... ... Current Metric Value: -2.13524E-01\n",
      "... ... Elapsed Iterations: 7\n",
      "... ... Current Metric Value: -5.62144E-02\n",
      "... ... Elapsed Iterations: 7\n",
      "... ... Current Metric Value: -2.37666E-01\n",
      "... ... Elapsed Iterations: 7\n",
      "... ... Current Metric Value: -2.37666E-01\n",
      "... ... Elapsed Iterations: 8\n",
      "... ... Current Metric Value: -3.35179E-01\n",
      "... ... Elapsed Iterations: 8\n",
      "... ... Current Metric Value: -3.35179E-01\n",
      "... ... Elapsed Iterations: 9\n",
      "... ... Current Metric Value: -3.55780E-01\n",
      "... ... Elapsed Iterations: 9\n",
      "... ... Current Metric Value: -3.55780E-01\n",
      "... ... Elapsed Iterations: 10\n",
      "... ... Current Metric Value: -3.93469E-01\n",
      "... ... Elapsed Iterations: 10\n",
      "... ... Current Metric Value: -3.93469E-01\n",
      "... ... Elapsed Iterations: 11\n",
      "... ... Current Metric Value: -4.52675E-01\n",
      "... ... Elapsed Iterations: 11\n",
      "... ... Current Metric Value: -4.52675E-01\n",
      "... ... Elapsed Iterations: 12\n",
      "... ... Current Metric Value: -4.88912E-01\n",
      "... ... Elapsed Iterations: 12\n",
      "... ... Current Metric Value: -4.88912E-01\n",
      "... ... Elapsed Iterations: 13\n",
      "... ... Current Metric Value: -5.27685E-01\n",
      "... ... Elapsed Iterations: 13\n",
      "... ... Current Metric Value: -5.27685E-01\n",
      "... ... Elapsed Iterations: 14\n",
      "... ... Current Metric Value: -5.52841E-01\n",
      "... ... Elapsed Iterations: 14\n",
      "... ... Current Metric Value: -5.52841E-01\n",
      "... ... Elapsed Iterations: 15\n",
      "... ... Current Metric Value: -5.78553E-01\n",
      "... ... Elapsed Iterations: 15\n",
      "... ... Current Metric Value: -5.78553E-01\n",
      "... ... Elapsed Iterations: 16\n",
      "... ... Current Metric Value: -6.07158E-01\n",
      "... ... Elapsed Iterations: 16\n",
      "... ... Current Metric Value: -6.07158E-01\n",
      "... ... Elapsed Iterations: 17\n",
      "... ... Current Metric Value: -6.42384E-01\n",
      "... ... Elapsed Iterations: 17\n",
      "... ... Current Metric Value: -6.42384E-01\n",
      "... ... Elapsed Iterations: 18\n",
      "... ... Current Metric Value: -6.59279E-01\n",
      "... ... Elapsed Iterations: 18\n",
      "... ... Current Metric Value: -6.59279E-01\n",
      "... ... Elapsed Iterations: 19\n",
      "... ... Current Metric Value: -6.64448E-01\n",
      "... ... Elapsed Iterations: 19\n",
      "... ... Current Metric Value: -6.64448E-01\n",
      "... ... Elapsed Iterations: 20\n",
      "... ... Current Metric Value: -6.69215E-01\n",
      "... ... Elapsed Iterations: 20\n",
      "... ... Current Metric Value: -6.69215E-01\n",
      "... ... Elapsed Iterations: 21\n",
      "... ... Current Metric Value: -6.76915E-01\n",
      "... ... Elapsed Iterations: 21\n",
      "... ... Current Metric Value: -6.76915E-01\n",
      "... ... Elapsed Iterations: 22\n",
      "... ... Current Metric Value: -6.74770E-01\n",
      "... ... Elapsed Iterations: 22\n",
      "... ... Current Metric Value: -6.77933E-01\n",
      "... ... Elapsed Iterations: 22\n",
      "... ... Current Metric Value: -6.77933E-01\n",
      "... ... Elapsed Iterations: 23\n",
      "... ... Current Metric Value: -6.81256E-01\n",
      "... ... Elapsed Iterations: 23\n",
      "... ... Current Metric Value: -6.81256E-01\n",
      "... ... Elapsed Iterations: 24\n",
      "... ... Current Metric Value: -6.81313E-01\n",
      "... ... Elapsed Iterations: 24\n",
      "... ... Current Metric Value: -6.81313E-01\n",
      "... ... Elapsed Iterations: 25\n",
      "... ... Current Metric Value: -6.84426E-01\n",
      "... ... Elapsed Iterations: 25\n",
      "... ... Current Metric Value: -6.84426E-01\n",
      "... ... Elapsed Iterations: 26\n",
      "... ... Current Metric Value: -6.86446E-01\n",
      "... ... Elapsed Iterations: 26\n",
      "... ... Current Metric Value: -6.86446E-01\n",
      "... ... Elapsed Iterations: 27\n",
      "... ... Current Metric Value: -6.87593E-01\n",
      "... ... Elapsed Iterations: 27\n",
      "... ... Current Metric Value: -6.87593E-01\n",
      "... ... Elapsed Iterations: 28\n",
      "... ... Current Metric Value: -6.89631E-01\n",
      "... ... Elapsed Iterations: 28\n",
      "... ... Current Metric Value: -6.89631E-01\n",
      "... ... Elapsed Iterations: 29\n",
      "... ... Current Metric Value: -6.88889E-01\n",
      "... ... Elapsed Iterations: 29\n",
      "... ... Current Metric Value: -6.89986E-01\n",
      "... ... Elapsed Iterations: 29\n",
      "... ... Current Metric Value: -6.89986E-01\n",
      "... ... Elapsed Iterations: 30\n",
      "... ... Current Metric Value: -6.90509E-01\n",
      "... ... Elapsed Iterations: 30\n",
      "... ... Current Metric Value: -6.90509E-01\n",
      "... ... Elapsed Iterations: 31\n",
      "... ... Current Metric Value: -6.91024E-01\n",
      "... ... Elapsed Iterations: 31\n",
      "... ... Current Metric Value: -6.91024E-01\n",
      "... ... Elapsed Iterations: 32\n",
      "... ... Current Metric Value: -6.93241E-01\n",
      "... ... Elapsed Iterations: 32\n",
      "... ... Current Metric Value: -6.93241E-01\n",
      "... ... Elapsed Iterations: 33\n",
      "... ... Current Metric Value: -6.93557E-01\n",
      "... ... Elapsed Iterations: 33\n",
      "... ... Current Metric Value: -6.93557E-01\n",
      "... ... Elapsed Iterations: 34\n",
      "... ... Current Metric Value: -6.94442E-01\n",
      "... ... Elapsed Iterations: 34\n",
      "... ... Current Metric Value: -6.94442E-01\n",
      "... ... Elapsed Iterations: 35\n",
      "... ... Current Metric Value: -6.95494E-01\n",
      "... ... Elapsed Iterations: 35\n",
      "... ... Current Metric Value: -6.95494E-01\n",
      "... ... Elapsed Iterations: 36\n",
      "... ... Current Metric Value: -6.96220E-01\n",
      "... ... Elapsed Iterations: 36\n",
      "... ... Current Metric Value: -6.96220E-01\n",
      "... ... Elapsed Iterations: 37\n",
      "... ... Current Metric Value: -6.98191E-01\n",
      "... ... Elapsed Iterations: 37\n",
      "... ... Current Metric Value: -6.98191E-01\n",
      "... ... Elapsed Iterations: 38\n",
      "... ... Current Metric Value: -6.97982E-01\n",
      "... ... Elapsed Iterations: 38\n",
      "... ... Current Metric Value: -6.98650E-01\n",
      "... ... Elapsed Iterations: 38\n",
      "... ... Current Metric Value: -6.98650E-01\n",
      "... ... Elapsed Iterations: 39\n",
      "... ... Current Metric Value: -6.99334E-01\n",
      "... ... Elapsed Iterations: 39\n",
      "... ... Current Metric Value: -6.99334E-01\n",
      "... ... Elapsed Iterations: 40\n",
      "... ... Current Metric Value: -6.98763E-01\n",
      "... ... Elapsed Iterations: 40\n",
      "... ... Current Metric Value: -6.99328E-01\n",
      "... ... Elapsed Iterations: 40\n",
      "... ... Current Metric Value: -6.99334E-01\n",
      "... ... Elapsed Iterations: 40\n",
      "... ... Current Metric Value: -6.99334E-01\n",
      "... ... Elapsed Iterations: 40\n",
      "... ... Current Metric Value: -6.99334E-01\n",
      "... ... Elapsed Iterations: 40\n",
      "... ... Current Metric Value: -6.99334E-01\n",
      "... ... Elapsed Iterations: 40\n",
      "... ... Current Metric Value: -6.99334E-01\n",
      "... ... Elapsed Iterations: 40\n",
      "... ... Current Metric Value: -6.99334E-01\n",
      "... ... Elapsed Iterations: 40\n",
      "... ... Current Metric Value: -6.99334E-01\n",
      "... ... Elapsed Iterations: 40\n",
      "... ... Current Metric Value: -6.99334E-01\n",
      "... ... Elapsed Iterations: 40\n",
      "... ... Current Metric Value: -6.99334E-01\n",
      "... ... Elapsed Iterations: 40\n",
      "... ... Current Metric Value: -6.99334E-01\n",
      "... ... Elapsed Iterations: 40\n",
      "... ... Current Metric Value: -6.99334E-01\n",
      "... ... Elapsed Iterations: 40\n",
      "... ... Current Metric Value: -6.99334E-01\n",
      "... ... Elapsed Iterations: 40\n",
      "... ... Current Metric Value: -6.99334E-01\n",
      "... ... Optimal BSpline transform determined \n",
      "... ... ... Elapsed Iterations: 41\n",
      "... ... ... Final Metric Value: -6.99334E-01\n",
      "... Registration Complete\n",
      "Analysis Complete!\n"
     ]
    }
   ],
   "source": [
    "t.execute()"
   ]
  },
  {
   "cell_type": "markdown",
   "metadata": {},
   "source": [
    "We did not provide any initialization to the registration algorithm in the above execution. If we provide the indices of the 8 grid corners (ordered counter-clockwise) in the deformed image, the registration can be better initialized. Let's see if this initialization changes the convergence behaviour. We determined these voxel indices using ImageJ."
   ]
  },
  {
   "cell_type": "code",
   "execution_count": 8,
   "metadata": {},
   "outputs": [],
   "source": [
    "t.options['Registration']['landmarks'] = [[72, 81, 5],\n",
    "                                          [71, 467, 5],\n",
    "                                          [457, 468, 5],\n",
    "                                          [455, 82, 5],\n",
    "                                          [71, 80, 20],\n",
    "                                          [72, 468, 20],\n",
    "                                          [458, 466, 20],\n",
    "                                          [457, 80, 20]]"
   ]
  },
  {
   "cell_type": "markdown",
   "metadata": {},
   "source": [
    "And re-executing the registration."
   ]
  },
  {
   "cell_type": "code",
   "execution_count": 9,
   "metadata": {},
   "outputs": [
    {
     "name": "stdout",
     "output_type": "stream",
     "text": [
      "... Starting Deformable Registration\n",
      "... ... Finding optimal BSpline transform\n",
      "... ... Elapsed Iterations: 0\n",
      "... ... Current Metric Value: -2.32286E-01\n",
      "... ... Elapsed Iterations: 0\n",
      "... ... Current Metric Value: -2.62576E-01\n",
      "... ... Elapsed Iterations: 0\n",
      "... ... Current Metric Value: -3.85003E-01\n",
      "... ... Elapsed Iterations: 0\n",
      "... ... Current Metric Value: -3.85003E-01\n",
      "... ... Elapsed Iterations: 1\n",
      "... ... Current Metric Value: -1.67176E-01\n",
      "... ... Elapsed Iterations: 1\n",
      "... ... Current Metric Value: -3.80853E-01\n",
      "... ... Elapsed Iterations: 1\n",
      "... ... Current Metric Value: -5.01466E-01\n",
      "... ... Elapsed Iterations: 1\n",
      "... ... Current Metric Value: -5.01466E-01\n",
      "... ... Elapsed Iterations: 2\n",
      "... ... Current Metric Value: -5.62287E-01\n",
      "... ... Elapsed Iterations: 2\n",
      "... ... Current Metric Value: -5.62287E-01\n",
      "... ... Elapsed Iterations: 3\n",
      "... ... Current Metric Value: -5.52476E-01\n",
      "... ... Elapsed Iterations: 3\n",
      "... ... Current Metric Value: -6.67195E-01\n",
      "... ... Elapsed Iterations: 3\n",
      "... ... Current Metric Value: -6.67195E-01\n",
      "... ... Elapsed Iterations: 4\n",
      "... ... Current Metric Value: -6.81427E-01\n",
      "... ... Elapsed Iterations: 4\n",
      "... ... Current Metric Value: -6.81427E-01\n",
      "... ... Elapsed Iterations: 5\n",
      "... ... Current Metric Value: -6.95327E-01\n",
      "... ... Elapsed Iterations: 5\n",
      "... ... Current Metric Value: -6.95327E-01\n",
      "... ... Elapsed Iterations: 6\n",
      "... ... Current Metric Value: -7.01208E-01\n",
      "... ... Elapsed Iterations: 6\n",
      "... ... Current Metric Value: -7.01208E-01\n",
      "... ... Elapsed Iterations: 7\n",
      "... ... Current Metric Value: -7.04607E-01\n",
      "... ... Elapsed Iterations: 7\n",
      "... ... Current Metric Value: -7.04607E-01\n",
      "... ... Elapsed Iterations: 8\n",
      "... ... Current Metric Value: -7.05672E-01\n",
      "... ... Elapsed Iterations: 8\n",
      "... ... Current Metric Value: -7.05672E-01\n",
      "... ... Elapsed Iterations: 9\n",
      "... ... Current Metric Value: -7.07048E-01\n",
      "... ... Elapsed Iterations: 9\n",
      "... ... Current Metric Value: -7.07048E-01\n",
      "... ... Elapsed Iterations: 10\n",
      "... ... Current Metric Value: -7.05148E-01\n",
      "... ... Elapsed Iterations: 10\n",
      "... ... Current Metric Value: -7.07038E-01\n",
      "... ... Elapsed Iterations: 10\n",
      "... ... Current Metric Value: -7.07043E-01\n",
      "... ... Elapsed Iterations: 10\n",
      "... ... Current Metric Value: -7.07045E-01\n",
      "... ... Elapsed Iterations: 10\n",
      "... ... Current Metric Value: -7.07048E-01\n",
      "... ... Elapsed Iterations: 10\n",
      "... ... Current Metric Value: -7.07048E-01\n",
      "... ... Elapsed Iterations: 10\n",
      "... ... Current Metric Value: -7.07048E-01\n",
      "... ... Elapsed Iterations: 10\n",
      "... ... Current Metric Value: -7.07048E-01\n",
      "... ... Elapsed Iterations: 10\n",
      "... ... Current Metric Value: -7.07048E-01\n",
      "... ... Elapsed Iterations: 10\n",
      "... ... Current Metric Value: -7.07048E-01\n",
      "... ... Elapsed Iterations: 10\n",
      "... ... Current Metric Value: -7.07048E-01\n",
      "... ... Elapsed Iterations: 10\n",
      "... ... Current Metric Value: -7.07048E-01\n",
      "... ... Elapsed Iterations: 10\n",
      "... ... Current Metric Value: -7.07048E-01\n",
      "... ... Elapsed Iterations: 10\n",
      "... ... Current Metric Value: -7.07048E-01\n",
      "... ... Elapsed Iterations: 10\n",
      "... ... Current Metric Value: -7.07048E-01\n",
      "... ... Elapsed Iterations: 10\n",
      "... ... Current Metric Value: -7.07048E-01\n",
      "... ... Elapsed Iterations: 10\n",
      "... ... Current Metric Value: -7.07048E-01\n",
      "... ... Elapsed Iterations: 10\n",
      "... ... Current Metric Value: -7.07048E-01\n",
      "... ... Elapsed Iterations: 10\n",
      "... ... Current Metric Value: -7.07048E-01\n",
      "... ... Elapsed Iterations: 10\n",
      "... ... Current Metric Value: -7.07048E-01\n",
      "... ... Elapsed Iterations: 10\n",
      "... ... Current Metric Value: -7.07048E-01\n",
      "... ... Optimal BSpline transform determined \n",
      "... ... ... Elapsed Iterations: 11\n",
      "... ... ... Final Metric Value: -7.07048E-01\n",
      "... Registration Complete\n",
      "Analysis Complete!\n"
     ]
    }
   ],
   "source": [
    "t.execute()"
   ]
  },
  {
   "cell_type": "markdown",
   "metadata": {},
   "source": [
    "We converged in less iterations of BFGS than the uninitialized registration. The final metric value (negative cross-correlation) was quite close. This suggests the objective function may be near convex since the determined minima are nearly equal; although, this cannot be proven. Qualitative inspection of the two results suggests these particular images can be registered well without initialization. The reader is encouraged to do this inspection by outputting results from each execution."
   ]
  },
  {
   "cell_type": "markdown",
   "metadata": {},
   "source": [
    "### Saving the results\n",
    "We can write the results in different formats such as a VTK image,"
   ]
  },
  {
   "cell_type": "code",
   "execution_count": 10,
   "metadata": {},
   "outputs": [
    {
     "name": "stdout",
     "output_type": "stream",
     "text": [
      "... Saving Results to example1.vti\n"
     ]
    }
   ],
   "source": [
    "t.writeResultsAsVTK('example1')"
   ]
  },
  {
   "cell_type": "markdown",
   "metadata": {},
   "source": [
    "an Excel workbook,"
   ]
  },
  {
   "cell_type": "code",
   "execution_count": 11,
   "metadata": {},
   "outputs": [
    {
     "name": "stdout",
     "output_type": "stream",
     "text": [
      "... Saving Results to example1.xlsx\n"
     ]
    }
   ],
   "source": [
    "t.writeResultsAsExcel('example1')"
   ]
  },
  {
   "cell_type": "markdown",
   "metadata": {},
   "source": [
    "and a NumPy binary."
   ]
  },
  {
   "cell_type": "code",
   "execution_count": 12,
   "metadata": {},
   "outputs": [
    {
     "name": "stdout",
     "output_type": "stream",
     "text": [
      "... Saving file as numpy archive example1.npz\n"
     ]
    }
   ],
   "source": [
    "t.writeResultsAsNumpy('example1')"
   ]
  },
  {
   "cell_type": "markdown",
   "metadata": {},
   "source": [
    "### Saving the 3D images for later visualization\n",
    "To view the original images in the open source 3D visualization software, ParaView, we can save the images as a VTK image."
   ]
  },
  {
   "cell_type": "code",
   "execution_count": 13,
   "metadata": {},
   "outputs": [
    {
     "name": "stdout",
     "output_type": "stream",
     "text": [
      "... Saving Image to reference.vti\n",
      "... Saving Image to deformed.vti\n"
     ]
    }
   ],
   "source": [
    "# Write the reference image to VTK image\n",
    "t.writeImageAsVTK(t.ref_img, 'reference')\n",
    "\n",
    "# WRite the deformed image to VTK image\n",
    "t.writeImageAsVTK(t.def_img, 'deformed')"
   ]
  }
 ],
 "metadata": {
  "kernelspec": {
   "display_name": "Python [conda env:testlsm]",
   "language": "python",
   "name": "conda-env-testlsm-py"
  },
  "language_info": {
   "codemirror_mode": {
    "name": "ipython",
    "version": 3
   },
   "file_extension": ".py",
   "mimetype": "text/x-python",
   "name": "python",
   "nbconvert_exporter": "python",
   "pygments_lexer": "ipython3",
   "version": "3.6.3"
  },
  "toc": {
   "colors": {
    "hover_highlight": "#DAA520",
    "running_highlight": "#FF0000",
    "selected_highlight": "#FFD700"
   },
   "moveMenuLeft": true,
   "nav_menu": {
    "height": "117px",
    "width": "252px"
   },
   "navigate_menu": true,
   "number_sections": true,
   "sideBar": true,
   "threshold": 4,
   "toc_cell": false,
   "toc_section_display": "block",
   "toc_window_display": false,
   "widenNotebook": false
  }
 },
 "nbformat": 4,
 "nbformat_minor": 2
}
