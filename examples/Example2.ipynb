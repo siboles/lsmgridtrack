{
 "cells": [
  {
   "cell_type": "markdown",
   "metadata": {},
   "source": [
    "### Initial Setup"
   ]
  },
  {
   "cell_type": "code",
   "execution_count": 1,
   "metadata": {
    "scrolled": true
   },
   "outputs": [
    {
     "name": "stdout",
     "output_type": "stream",
     "text": [
      "{'Image': {'spacing': [0.5, 0.5, 1.0], 'resampling': [1.0, 1.0, 1.0]}, 'Grid': {'origin': [69, 72, 5], 'spacing': [20, 20, 10], 'size': [20, 20, 3], 'crop': False}, 'Registration': {'method': 'BFGS', 'iterations': 100, 'sampling_fraction': 0.05, 'sampling_strategy': 'RANDOM', 'usemask': False, 'landmarks': [[72, 81, 5], [71, 467, 5], [457, 468, 5], [455, 82, 5], [71, 80, 20], [72, 468, 20], [458, 466, 20], [457, 80, 20]], 'shrink_levels': [1], 'sigma_levels': [0.0]}}\n"
     ]
    }
   ],
   "source": [
    "from lsmgridtrack.test import data\n",
    "import lsmgridtrack as lsm\n",
    "\n",
    "# Get paths to reference and deformed images\n",
    "reference_path = data.get_image('reference - 2 layers')\n",
    "deformed_path = data.get_image('10 percent strain - 2 layers')\n",
    "\n",
    "# Instantiate a tracker object with image paths and configuration file specified as arguments\n",
    "t = lsm.tracker(reference_path = reference_path,\n",
    "                deformed_path = deformed_path,\n",
    "                config = \"example2.yaml\")\n",
    "\n",
    "# Print the options to show they are changed by the config file\n",
    "print(t.options)\n"
   ]
  },
  {
   "cell_type": "markdown",
   "metadata": {},
   "source": [
    "### Execution"
   ]
  },
  {
   "cell_type": "code",
   "execution_count": 2,
   "metadata": {},
   "outputs": [
    {
     "name": "stdout",
     "output_type": "stream",
     "text": [
      "... Starting Deformable Registration\n",
      "... ... Finding optimal BSpline transform\n",
      "... ... Elapsed Iterations: 0\n",
      "... ... Current Metric Value: -2.34740E-01\n",
      "... ... Elapsed Iterations: 0\n",
      "... ... Current Metric Value: -2.65271E-01\n",
      "... ... Elapsed Iterations: 0\n",
      "... ... Current Metric Value: -3.87429E-01\n",
      "... ... Elapsed Iterations: 0\n",
      "... ... Current Metric Value: -3.87429E-01\n",
      "... ... Elapsed Iterations: 1\n",
      "... ... Current Metric Value: -1.61627E-01\n",
      "... ... Elapsed Iterations: 1\n",
      "... ... Current Metric Value: -4.17114E-01\n",
      "... ... Elapsed Iterations: 1\n",
      "... ... Current Metric Value: -5.04918E-01\n",
      "... ... Elapsed Iterations: 1\n",
      "... ... Current Metric Value: -5.04918E-01\n",
      "... ... Elapsed Iterations: 2\n",
      "... ... Current Metric Value: -5.66540E-01\n",
      "... ... Elapsed Iterations: 2\n",
      "... ... Current Metric Value: -5.66540E-01\n",
      "... ... Elapsed Iterations: 3\n",
      "... ... Current Metric Value: -5.77310E-01\n",
      "... ... Elapsed Iterations: 3\n",
      "... ... Current Metric Value: -5.77310E-01\n",
      "... ... Elapsed Iterations: 4\n",
      "... ... Current Metric Value: -6.71897E-01\n",
      "... ... Elapsed Iterations: 4\n",
      "... ... Current Metric Value: -6.71897E-01\n",
      "... ... Elapsed Iterations: 5\n",
      "... ... Current Metric Value: -6.87199E-01\n",
      "... ... Elapsed Iterations: 5\n",
      "... ... Current Metric Value: -6.87199E-01\n",
      "... ... Elapsed Iterations: 6\n",
      "... ... Current Metric Value: -6.96427E-01\n",
      "... ... Elapsed Iterations: 6\n",
      "... ... Current Metric Value: -6.96427E-01\n",
      "... ... Elapsed Iterations: 7\n",
      "... ... Current Metric Value: -7.00449E-01\n",
      "... ... Elapsed Iterations: 7\n",
      "... ... Current Metric Value: -7.00449E-01\n",
      "... ... Elapsed Iterations: 8\n",
      "... ... Current Metric Value: -7.03506E-01\n",
      "... ... Elapsed Iterations: 8\n",
      "... ... Current Metric Value: -7.03506E-01\n",
      "... ... Elapsed Iterations: 9\n",
      "... ... Current Metric Value: -7.05269E-01\n",
      "... ... Elapsed Iterations: 9\n",
      "... ... Current Metric Value: -7.05269E-01\n",
      "... ... Elapsed Iterations: 10\n",
      "... ... Current Metric Value: -7.07828E-01\n",
      "... ... Elapsed Iterations: 10\n",
      "... ... Current Metric Value: -7.07828E-01\n",
      "... ... Elapsed Iterations: 11\n",
      "... ... Current Metric Value: -7.07464E-01\n",
      "... ... Elapsed Iterations: 11\n",
      "... ... Current Metric Value: -7.07819E-01\n",
      "... ... Elapsed Iterations: 11\n",
      "... ... Current Metric Value: -7.07836E-01\n",
      "... ... Elapsed Iterations: 11\n",
      "... ... Current Metric Value: -7.07831E-01\n",
      "... ... Elapsed Iterations: 11\n",
      "... ... Current Metric Value: -7.07836E-01\n",
      "... ... Elapsed Iterations: 11\n",
      "... ... Current Metric Value: -7.07836E-01\n",
      "... ... Elapsed Iterations: 11\n",
      "... ... Current Metric Value: -7.07836E-01\n",
      "... ... Elapsed Iterations: 12\n",
      "... ... Current Metric Value: -7.07222E-01\n",
      "... ... Elapsed Iterations: 12\n",
      "... ... Current Metric Value: -7.07831E-01\n",
      "... ... Elapsed Iterations: 12\n",
      "... ... Current Metric Value: -7.07834E-01\n",
      "... ... Elapsed Iterations: 12\n",
      "... ... Current Metric Value: -7.07835E-01\n",
      "... ... Elapsed Iterations: 12\n",
      "... ... Current Metric Value: -7.07836E-01\n",
      "... ... Elapsed Iterations: 12\n",
      "... ... Current Metric Value: -7.07836E-01\n",
      "... ... Elapsed Iterations: 12\n",
      "... ... Current Metric Value: -7.07836E-01\n",
      "... ... Elapsed Iterations: 12\n",
      "... ... Current Metric Value: -7.07836E-01\n",
      "... ... Elapsed Iterations: 12\n",
      "... ... Current Metric Value: -7.07836E-01\n",
      "... ... Elapsed Iterations: 12\n",
      "... ... Current Metric Value: -7.07836E-01\n",
      "... ... Elapsed Iterations: 12\n",
      "... ... Current Metric Value: -7.07836E-01\n",
      "... ... Elapsed Iterations: 12\n",
      "... ... Current Metric Value: -7.07836E-01\n",
      "... ... Elapsed Iterations: 12\n",
      "... ... Current Metric Value: -7.07836E-01\n",
      "... ... Elapsed Iterations: 12\n",
      "... ... Current Metric Value: -7.07836E-01\n",
      "... ... Elapsed Iterations: 12\n",
      "... ... Current Metric Value: -7.07836E-01\n",
      "... ... Elapsed Iterations: 12\n",
      "... ... Current Metric Value: -7.07836E-01\n",
      "... ... Elapsed Iterations: 12\n",
      "... ... Current Metric Value: -7.07836E-01\n",
      "... ... Elapsed Iterations: 12\n",
      "... ... Current Metric Value: -7.07836E-01\n",
      "... ... Elapsed Iterations: 12\n",
      "... ... Current Metric Value: -7.07836E-01\n",
      "... ... Elapsed Iterations: 12\n",
      "... ... Current Metric Value: -7.07836E-01\n",
      "... ... Elapsed Iterations: 12\n",
      "... ... Current Metric Value: -7.07836E-01\n",
      "... ... Optimal BSpline transform determined \n",
      "... ... ... Elapsed Iterations: 13\n",
      "... ... ... Final Metric Value: -7.07836E-01\n",
      "... Registration Complete\n",
      "Analysis Complete!\n"
     ]
    }
   ],
   "source": [
    "t.execute()"
   ]
  },
  {
   "cell_type": "markdown",
   "metadata": {},
   "source": [
    "### Outputting Results"
   ]
  },
  {
   "cell_type": "code",
   "execution_count": 3,
   "metadata": {},
   "outputs": [
    {
     "name": "stdout",
     "output_type": "stream",
     "text": [
      "... Saving Results to example2.vti\n",
      "... Saving Results to example2.xlsx\n",
      "... Saving file as numpy archive example2.npz\n"
     ]
    }
   ],
   "source": [
    "t.writeResultsAsVTK('example2')\n",
    "t.writeResultsAsExcel('example2')\n",
    "t.writeResultsAsNumpy('example2')"
   ]
  },
  {
   "cell_type": "markdown",
   "metadata": {},
   "source": [
    "### Post-analysis"
   ]
  },
  {
   "cell_type": "code",
   "execution_count": 4,
   "metadata": {},
   "outputs": [],
   "source": [
    "data = lsm.utils.readVTK(\"example2.vti\")"
   ]
  },
  {
   "cell_type": "markdown",
   "metadata": {},
   "source": [
    "Here *data* is an OrderedDict that works with the post-processing functions included in lsm.utils. All the reader functions return this type, so we could also have read the excel file we output above:"
   ]
  },
  {
   "cell_type": "code",
   "execution_count": 5,
   "metadata": {},
   "outputs": [],
   "source": [
    "excel_data = lsm.utils.readExcel(\"example2.xlsx\")"
   ]
  },
  {
   "cell_type": "markdown",
   "metadata": {},
   "source": [
    "Now if we have deformation data from images with grids of the same size, we can do one-to-one comparisons. Since in this example we only have results from one analysis, we will simulate a second data set by randomly perturbing a copy of our *data*. Note that this deepcopy is important, so nothing is copied by reference."
   ]
  },
  {
   "cell_type": "code",
   "execution_count": 6,
   "metadata": {},
   "outputs": [],
   "source": [
    "import numpy as np\n",
    "from copy import deepcopy\n",
    "data_perturbed = deepcopy(data)"
   ]
  },
  {
   "cell_type": "markdown",
   "metadata": {},
   "source": [
    "Let's add some random pertubation to the values stored in our copy of the data."
   ]
  },
  {
   "cell_type": "code",
   "execution_count": 7,
   "metadata": {},
   "outputs": [],
   "source": [
    "for k, v in data_perturbed.items():\n",
    "    if k == \"Coordinates\":\n",
    "        continue\n",
    "    mu = np.mean(v.ravel())\n",
    "    sigma = np.std(v.ravel())\n",
    "    data_perturbed[k] += np.random.normal(loc=mu, scale=sigma, size=v.shape)"
   ]
  },
  {
   "cell_type": "markdown",
   "metadata": {},
   "source": [
    "A nice aggregate measure is the root-mean-square difference. We can easily calculate this for all data variables."
   ]
  },
  {
   "cell_type": "code",
   "execution_count": 8,
   "metadata": {},
   "outputs": [
    {
     "name": "stdout",
     "output_type": "stream",
     "text": [
      "OrderedDict([('Coordinates', 0.0), ('Displacement', 4.3950385988639971), ('Strain', 0.099083840270760157), ('1st Principal Strain', 0.013016456504172057), ('2nd Principal Strain', 0.0070212611135075983), ('3rd Principal Strain', 0.13202721704346612), ('Volumetric Strain', 0.18459445802160926), ('Maximum Shear Strain', 0.1692308333647991)])\n"
     ]
    }
   ],
   "source": [
    "rmsd = lsm.utils.calculateRMSDifference(x=data, y=data_perturbed, variables=data.keys())\n",
    "print(rmsd)"
   ]
  },
  {
   "cell_type": "markdown",
   "metadata": {},
   "source": [
    "However, all spatial information is lost here. Instead we can calculate the difference at every grid vertex, and save it to a variable. "
   ]
  },
  {
   "cell_type": "code",
   "execution_count": 9,
   "metadata": {},
   "outputs": [],
   "source": [
    "strain_difference = lsm.utils.calculateDifference(x=data, y=data_perturbed, variable=\"Strain\")"
   ]
  },
  {
   "cell_type": "code",
   "execution_count": 10,
   "metadata": {},
   "outputs": [],
   "source": [
    "data[\"Strain Difference\"] = strain_difference"
   ]
  },
  {
   "cell_type": "markdown",
   "metadata": {},
   "source": [
    "Of course this could be done in one line."
   ]
  },
  {
   "cell_type": "code",
   "execution_count": 11,
   "metadata": {},
   "outputs": [],
   "source": [
    "data[\"1st Principal Strain Difference\"] = lsm.utils.calculateDifference(x=data, y=data_perturbed, variable=\"1st Principal Strain\")"
   ]
  },
  {
   "cell_type": "markdown",
   "metadata": {},
   "source": [
    "Now, it would be nice to visualize this again in ParaView (or other software that can handle VTK image format). We supply writer functions to VTK, NumPy, and Excel formats as well. Let's write to a VTK image."
   ]
  },
  {
   "cell_type": "code",
   "execution_count": 12,
   "metadata": {},
   "outputs": [
    {
     "name": "stdout",
     "output_type": "stream",
     "text": [
      "... Wrote grid data to example2_processed.vti\n"
     ]
    }
   ],
   "source": [
    "lsm.utils.writeAsVTK(data=data, name=\"example2_processed\")"
   ]
  }
 ],
 "metadata": {
  "kernelspec": {
   "display_name": "Python [conda env:testlsm]",
   "language": "python",
   "name": "conda-env-testlsm-py"
  },
  "language_info": {
   "codemirror_mode": {
    "name": "ipython",
    "version": 3
   },
   "file_extension": ".py",
   "mimetype": "text/x-python",
   "name": "python",
   "nbconvert_exporter": "python",
   "pygments_lexer": "ipython3",
   "version": "3.6.3"
  },
  "toc": {
   "colors": {
    "hover_highlight": "#DAA520",
    "running_highlight": "#FF0000",
    "selected_highlight": "#FFD700"
   },
   "moveMenuLeft": true,
   "nav_menu": {
    "height": "12px",
    "width": "252px"
   },
   "navigate_menu": true,
   "number_sections": true,
   "sideBar": true,
   "threshold": 4,
   "toc_cell": false,
   "toc_section_display": "block",
   "toc_window_display": false,
   "widenNotebook": false
  }
 },
 "nbformat": 4,
 "nbformat_minor": 2
}
